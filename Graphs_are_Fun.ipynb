{
  "cells": [
    {
      "cell_type": "markdown",
      "metadata": {
        "id": "kfeA_CCg5c-y"
      },
      "source": [
        "I am defining a similarity Matrix for the two seperate graph. Then using the power of similarity matrix, i will be trying to strengthen the previously unknown or weak connections.\n"
      ]
    },
    {
      "cell_type": "code",
      "execution_count": 2,
      "metadata": {
        "id": "sFiXM5Ud7nR7",
        "colab": {
          "base_uri": "https://localhost:8080/"
        },
        "outputId": "ebc71765-e49e-41fe-ad40-f5ad3f32fcd7"
      },
      "outputs": [
        {
          "output_type": "stream",
          "name": "stdout",
          "text": [
            "rm: cannot remove 'bug_numpy_utils.py': No such file or directory\n",
            "--2023-11-23 12:08:30--  https://raw.githubusercontent.com/bugrakoku/bug_python_utils/main/bug_numpy_utils.py\n",
            "Resolving raw.githubusercontent.com (raw.githubusercontent.com)... 185.199.108.133, 185.199.109.133, 185.199.110.133, ...\n",
            "Connecting to raw.githubusercontent.com (raw.githubusercontent.com)|185.199.108.133|:443... connected.\n",
            "HTTP request sent, awaiting response... 200 OK\n",
            "Length: 14157 (14K) [text/plain]\n",
            "Saving to: ‘bug_numpy_utils.py’\n",
            "\n",
            "bug_numpy_utils.py  100%[===================>]  13.83K  --.-KB/s    in 0s      \n",
            "\n",
            "2023-11-23 12:08:30 (121 MB/s) - ‘bug_numpy_utils.py’ saved [14157/14157]\n",
            "\n"
          ]
        }
      ],
      "source": [
        "import numpy as np\n",
        "import matplotlib.pyplot as plt\n",
        "from numpy import cos, sin, pi, round\n",
        "from numpy.linalg import inv\n",
        "from numpy.linalg import matrix_rank as rank\n",
        "!rm bug_numpy_utils.py # just in case\n",
        "!wget https://raw.githubusercontent.com/bugrakoku/bug_python_utils/main/bug_numpy_utils.py\n",
        "from bug_numpy_utils import MatPrint, CData"
      ]
    },
    {
      "cell_type": "code",
      "execution_count": 3,
      "metadata": {
        "id": "fEWfY4SK52NK"
      },
      "outputs": [],
      "source": [
        "similarity_matrix = np.array( [[1, 1, 0, 0, 0, 0, 0, 0],\n",
        "                               [1, 1, 1, 0, 0, 0, 0, 0],\n",
        "                               [0, 1, 1, 1, 0, 0, 0, 0],\n",
        "                               [0, 0, 1, 1, 0, 0, 0, 0],\n",
        "                               [0, 0, 0, 0, 1, 1, 0, 0],\n",
        "                               [0, 0, 0, 0, 1, 1, 1, 0],\n",
        "                               [0, 0, 0, 0, 0, 1, 1, 1],\n",
        "                               [0, 0, 0, 0, 0, 0, 1, 1]])"
      ]
    },
    {
      "cell_type": "markdown",
      "metadata": {
        "id": "G72mHSp3789o"
      },
      "source": [
        "Take square of similarity matrix to strengthen the immediate neighbours"
      ]
    },
    {
      "cell_type": "code",
      "execution_count": 4,
      "metadata": {
        "id": "7DRO93yN7jif",
        "colab": {
          "base_uri": "https://localhost:8080/"
        },
        "outputId": "1dbc8721-3dbe-44fc-cacf-fe8cd4549cde"
      },
      "outputs": [
        {
          "output_type": "stream",
          "name": "stdout",
          "text": [
            "Matrix:\n",
            "|     2.00     2.00     1.00     0.00     0.00     0.00     0.00     0.00 |\n",
            "|     2.00     3.00     2.00     1.00     0.00     0.00     0.00     0.00 |\n",
            "|     1.00     2.00     3.00     2.00     0.00     0.00     0.00     0.00 |\n",
            "|     0.00     1.00     2.00     2.00     0.00     0.00     0.00     0.00 |\n",
            "|     0.00     0.00     0.00     0.00     2.00     2.00     1.00     0.00 |\n",
            "|     0.00     0.00     0.00     0.00     2.00     3.00     2.00     1.00 |\n",
            "|     0.00     0.00     0.00     0.00     1.00     2.00     3.00     2.00 |\n",
            "|     0.00     0.00     0.00     0.00     0.00     1.00     2.00     2.00 |\n"
          ]
        }
      ],
      "source": [
        "squared = (similarity_matrix @ similarity_matrix)\n",
        "MatPrint(squared)"
      ]
    },
    {
      "cell_type": "code",
      "execution_count": 5,
      "metadata": {
        "id": "BaJ2Uaw_8REO",
        "colab": {
          "base_uri": "https://localhost:8080/"
        },
        "outputId": "0d1ca03f-97b6-495f-b8ca-dce055f37fee"
      },
      "outputs": [
        {
          "output_type": "stream",
          "name": "stdout",
          "text": [
            "Matrix:\n",
            "|     1.00     1.00     1.00     0.00     0.00     0.00     0.00     0.00 |\n",
            "|     1.00     1.00     1.00     1.00     0.00     0.00     0.00     0.00 |\n",
            "|     1.00     1.00     1.00     1.00     0.00     0.00     0.00     0.00 |\n",
            "|     0.00     1.00     1.00     1.00     0.00     0.00     0.00     0.00 |\n",
            "|     0.00     0.00     0.00     0.00     1.00     1.00     1.00     0.00 |\n",
            "|     0.00     0.00     0.00     0.00     1.00     1.00     1.00     1.00 |\n",
            "|     0.00     0.00     0.00     0.00     1.00     1.00     1.00     1.00 |\n",
            "|     0.00     0.00     0.00     0.00     0.00     1.00     1.00     1.00 |\n"
          ]
        }
      ],
      "source": [
        "squared[(squared > 1)] = 1\n",
        "MatPrint(squared)"
      ]
    },
    {
      "cell_type": "markdown",
      "metadata": {
        "id": "l5EpFZkoBvRZ"
      },
      "source": [
        "Take cube to strengthen the indirect neighbours"
      ]
    },
    {
      "cell_type": "code",
      "execution_count": 6,
      "metadata": {
        "id": "Ust4NBCZ81fJ",
        "colab": {
          "base_uri": "https://localhost:8080/"
        },
        "outputId": "7acd6f79-9501-4568-dfef-70d4b455fd89"
      },
      "outputs": [
        {
          "output_type": "stream",
          "name": "stdout",
          "text": [
            "Matrix:\n",
            "|     1.00     1.00     1.00     1.00     0.00     0.00     0.00     0.00 |\n",
            "|     1.00     1.00     1.00     1.00     0.00     0.00     0.00     0.00 |\n",
            "|     1.00     1.00     1.00     1.00     0.00     0.00     0.00     0.00 |\n",
            "|     1.00     1.00     1.00     1.00     0.00     0.00     0.00     0.00 |\n",
            "|     0.00     0.00     0.00     0.00     1.00     1.00     1.00     1.00 |\n",
            "|     0.00     0.00     0.00     0.00     1.00     1.00     1.00     1.00 |\n",
            "|     0.00     0.00     0.00     0.00     1.00     1.00     1.00     1.00 |\n",
            "|     0.00     0.00     0.00     0.00     1.00     1.00     1.00     1.00 |\n"
          ]
        }
      ],
      "source": [
        "cube = (similarity_matrix @ similarity_matrix @ similarity_matrix)\n",
        "cube[(cube > 1)] = 1\n",
        "MatPrint(cube)"
      ]
    },
    {
      "cell_type": "markdown",
      "metadata": {
        "id": "2WHg7205CSZq"
      },
      "source": [
        "Graph under observation:\n",
        "\n",
        "![Capture.PNG](data:image/png;base64,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)"
      ]
    },
    {
      "cell_type": "markdown",
      "metadata": {
        "id": "DOE4FUveCjSj"
      },
      "source": [
        "Forming the adjacency Matrix\n"
      ]
    },
    {
      "cell_type": "code",
      "execution_count": 7,
      "metadata": {
        "id": "wKA3r1vqCnx_",
        "colab": {
          "base_uri": "https://localhost:8080/"
        },
        "outputId": "85c30800-e85f-4031-8743-65c771436904"
      },
      "outputs": [
        {
          "output_type": "stream",
          "name": "stdout",
          "text": [
            "Matrix:\n",
            "|     0.00     1.00     1.00     0.00     0.00 |\n",
            "|     1.00     0.00     1.00     1.00     1.00 |\n",
            "|     1.00     1.00     0.00     0.00     0.00 |\n",
            "|     0.00     1.00     0.00     0.00     1.00 |\n",
            "|     0.00     1.00     0.00     1.00     0.00 |\n"
          ]
        }
      ],
      "source": [
        "A = np.array( [ [0,1,1,0,0],[1,0,1,1,1],[1,1,0,0,0],[0,1,0,0,1],[0,1,0,1,0] ] )\n",
        "MatPrint(A)"
      ]
    },
    {
      "cell_type": "markdown",
      "metadata": {
        "id": "fvZCf89LDvnE"
      },
      "source": [
        "Degree Matrix : stores degree of each node in its diagonal"
      ]
    },
    {
      "cell_type": "code",
      "execution_count": 8,
      "metadata": {
        "id": "XUvbiHO_Dpm9",
        "colab": {
          "base_uri": "https://localhost:8080/"
        },
        "outputId": "8cb30dae-ecbe-4dbf-f52f-620f1b524c2f"
      },
      "outputs": [
        {
          "output_type": "stream",
          "name": "stdout",
          "text": [
            "Matrix:\n",
            "|     2.00     0.00     0.00     0.00     0.00 |\n",
            "|     0.00     4.00     0.00     0.00     0.00 |\n",
            "|     0.00     0.00     2.00     0.00     0.00 |\n",
            "|     0.00     0.00     0.00     2.00     0.00 |\n",
            "|     0.00     0.00     0.00     0.00     2.00 |\n"
          ]
        }
      ],
      "source": [
        "D = np.array([[2,0,0,0,0],[0,4,0,0,0],[0,0,2,0,0],[0,0,0,2,0],[0,0,0,0,2]])\n",
        "MatPrint(D)"
      ]
    },
    {
      "cell_type": "markdown",
      "source": [
        "Computing the laplacian L= D - A"
      ],
      "metadata": {
        "id": "tE7TxQvxFB2b"
      }
    },
    {
      "cell_type": "code",
      "execution_count": 9,
      "metadata": {
        "id": "GvejdSDcEQBo",
        "colab": {
          "base_uri": "https://localhost:8080/"
        },
        "outputId": "b4753db9-0c49-47c6-b80e-24564afe5932"
      },
      "outputs": [
        {
          "output_type": "stream",
          "name": "stdout",
          "text": [
            "Matrix:\n",
            "|     2.00    -1.00    -1.00     0.00     0.00 |\n",
            "|    -1.00     4.00    -1.00    -1.00    -1.00 |\n",
            "|    -1.00    -1.00     2.00     0.00     0.00 |\n",
            "|     0.00    -1.00     0.00     2.00    -1.00 |\n",
            "|     0.00    -1.00     0.00    -1.00     2.00 |\n"
          ]
        }
      ],
      "source": [
        "L = D - A\n",
        "MatPrint(L)"
      ]
    },
    {
      "cell_type": "code",
      "source": [
        "eigenvalues, eigenvectors = np.linalg.eig(L)\n",
        "print(' These are eigen vectors of the Laplacian: \\n')\n",
        "print(eigenvalues)\n",
        "print('\\n')\n",
        "print(' These are eigen vectors of the Laplacian: \\n')\n",
        "MatPrint(eigenvectors)\n"
      ],
      "metadata": {
        "id": "bUHLBrQvFG1r",
        "colab": {
          "base_uri": "https://localhost:8080/"
        },
        "outputId": "aff059e6-4f92-4770-fb1f-18ba71eb8a1b"
      },
      "execution_count": 10,
      "outputs": [
        {
          "output_type": "stream",
          "name": "stdout",
          "text": [
            " These are eigen vectors of the Laplacian: \n",
            "\n",
            "[5.00000000e+00 3.00000000e+00 1.35853854e-16 1.00000000e+00\n",
            " 3.00000000e+00]\n",
            "\n",
            "\n",
            " These are eigen vectors of the Laplacian: \n",
            "\n",
            "Matrix:\n",
            "|     0.22    -0.71     0.45     0.50    -0.03 |\n",
            "|    -0.89    -0.00     0.45    -0.00     0.00 |\n",
            "|     0.22     0.71     0.45     0.50     0.03 |\n",
            "|     0.22    -0.00     0.45    -0.50    -0.71 |\n",
            "|     0.22    -0.00     0.45    -0.50     0.71 |\n"
          ]
        }
      ]
    },
    {
      "cell_type": "markdown",
      "source": [
        "Now i will divide the above graph into two components mkaing 1,2,5 one comp and 3,4 the other"
      ],
      "metadata": {
        "id": "WnrqWXdX5B7B"
      }
    },
    {
      "cell_type": "code",
      "source": [
        "A_dis = np.array([[0,1,0,0,0],[1,0,0,0,1],[0,0,0,1,0],[0,0,1,0,0],[0,1,0,0,0]])\n",
        "MatPrint(A_dis)"
      ],
      "metadata": {
        "id": "uBHJPLaTHoow",
        "colab": {
          "base_uri": "https://localhost:8080/"
        },
        "outputId": "01ecf70d-9990-4da3-f082-bca10f22ea12"
      },
      "execution_count": 11,
      "outputs": [
        {
          "output_type": "stream",
          "name": "stdout",
          "text": [
            "Matrix:\n",
            "|     0.00     1.00     0.00     0.00     0.00 |\n",
            "|     1.00     0.00     0.00     0.00     1.00 |\n",
            "|     0.00     0.00     0.00     1.00     0.00 |\n",
            "|     0.00     0.00     1.00     0.00     0.00 |\n",
            "|     0.00     1.00     0.00     0.00     0.00 |\n"
          ]
        }
      ]
    },
    {
      "cell_type": "code",
      "source": [
        "D_dis = np.array([[1,0,0,0,0],[0,2,0,0,0],[0,0,1,0,0],[0,0,0,1,0],[0,0,0,0,1]])\n",
        "MatPrint(D_dis)"
      ],
      "metadata": {
        "id": "nmgC7dfN6JYH",
        "colab": {
          "base_uri": "https://localhost:8080/"
        },
        "outputId": "06b0844e-18c0-4437-8206-9beca06c0172"
      },
      "execution_count": 12,
      "outputs": [
        {
          "output_type": "stream",
          "name": "stdout",
          "text": [
            "Matrix:\n",
            "|     1.00     0.00     0.00     0.00     0.00 |\n",
            "|     0.00     2.00     0.00     0.00     0.00 |\n",
            "|     0.00     0.00     1.00     0.00     0.00 |\n",
            "|     0.00     0.00     0.00     1.00     0.00 |\n",
            "|     0.00     0.00     0.00     0.00     1.00 |\n"
          ]
        }
      ]
    },
    {
      "cell_type": "code",
      "source": [
        "L_dis = D_dis - A_dis\n",
        "MatPrint(L_dis)"
      ],
      "metadata": {
        "id": "bka4feub6fvO",
        "colab": {
          "base_uri": "https://localhost:8080/"
        },
        "outputId": "337c5d2e-e9e6-4452-cefa-f306f99023e1"
      },
      "execution_count": 13,
      "outputs": [
        {
          "output_type": "stream",
          "name": "stdout",
          "text": [
            "Matrix:\n",
            "|     1.00    -1.00     0.00     0.00     0.00 |\n",
            "|    -1.00     2.00     0.00     0.00    -1.00 |\n",
            "|     0.00     0.00     1.00    -1.00     0.00 |\n",
            "|     0.00     0.00    -1.00     1.00     0.00 |\n",
            "|     0.00    -1.00     0.00     0.00     1.00 |\n"
          ]
        }
      ]
    },
    {
      "cell_type": "code",
      "source": [
        "eigenvalues_dis, eigenvectors_dis = np.linalg.eig(L_dis)\n",
        "print(' These are eigen vectors of the Laplacian: \\n')\n",
        "print(eigenvalues_dis)\n",
        "print('\\n')\n",
        "print(' These are eigen vectors of the Laplacian: \\n')\n",
        "MatPrint(eigenvectors_dis)\n"
      ],
      "metadata": {
        "id": "NvDpCDY96sul",
        "colab": {
          "base_uri": "https://localhost:8080/"
        },
        "outputId": "c730aacd-ce1b-4b69-f388-b6ad07b869e8"
      },
      "execution_count": 14,
      "outputs": [
        {
          "output_type": "stream",
          "name": "stdout",
          "text": [
            " These are eigen vectors of the Laplacian: \n",
            "\n",
            "[ 3.00000000e+00  1.00000000e+00 -3.36770206e-17  2.00000000e+00\n",
            "  0.00000000e+00]\n",
            "\n",
            "\n",
            " These are eigen vectors of the Laplacian: \n",
            "\n",
            "Matrix:\n",
            "|    -0.41    -0.71     0.58     0.00     0.00 |\n",
            "|     0.82     0.00     0.58     0.00     0.00 |\n",
            "|     0.00     0.00     0.00    -0.71     0.71 |\n",
            "|     0.00     0.00     0.00     0.71     0.71 |\n",
            "|    -0.41     0.71     0.58     0.00     0.00 |\n"
          ]
        }
      ]
    },
    {
      "cell_type": "markdown",
      "source": [
        "Forming the incidence matrix for the single connected graph"
      ],
      "metadata": {
        "id": "-YeGGlkcAbJi"
      }
    },
    {
      "cell_type": "code",
      "source": [
        "j = np.array([[1,1,0,0,0,0],[1,0,1,1,1,0],[0,1,1,0,0,0],[0,0,0,1,0,1],[0,0,0,0,1,1]])\n",
        "MatPrint(j)"
      ],
      "metadata": {
        "id": "5H8ZofPG61X7",
        "colab": {
          "base_uri": "https://localhost:8080/"
        },
        "outputId": "ee45db90-5f2c-4a0c-bdc8-df1b413c40d7"
      },
      "execution_count": 15,
      "outputs": [
        {
          "output_type": "stream",
          "name": "stdout",
          "text": [
            "Matrix:\n",
            "|     1.00     1.00     0.00     0.00     0.00     0.00 |\n",
            "|     1.00     0.00     1.00     1.00     1.00     0.00 |\n",
            "|     0.00     1.00     1.00     0.00     0.00     0.00 |\n",
            "|     0.00     0.00     0.00     1.00     0.00     1.00 |\n",
            "|     0.00     0.00     0.00     0.00     1.00     1.00 |\n"
          ]
        }
      ]
    },
    {
      "cell_type": "code",
      "source": [
        "j = np.array([[1,1,0,0,0],[1,0,1,0,0],[0,1,1,0,0],[0,1,0,1,0],[0,1,0,0,1],[0,0,0,1,1]])\n",
        "MatPrint(j)"
      ],
      "metadata": {
        "id": "zyTjk0F-HPMA",
        "colab": {
          "base_uri": "https://localhost:8080/"
        },
        "outputId": "15e083f7-2213-4313-e0c2-64a89021d0ea"
      },
      "execution_count": 16,
      "outputs": [
        {
          "output_type": "stream",
          "name": "stdout",
          "text": [
            "Matrix:\n",
            "|     1.00     1.00     0.00     0.00     0.00 |\n",
            "|     1.00     0.00     1.00     0.00     0.00 |\n",
            "|     0.00     1.00     1.00     0.00     0.00 |\n",
            "|     0.00     1.00     0.00     1.00     0.00 |\n",
            "|     0.00     1.00     0.00     0.00     1.00 |\n",
            "|     0.00     0.00     0.00     1.00     1.00 |\n"
          ]
        }
      ]
    },
    {
      "cell_type": "code",
      "source": [
        "L_v2 =np.transpose(j) @ j\n",
        "print(\"computing L with j.T @ j \\n\")\n",
        "MatPrint(L_v2)\n",
        "print(\"\\n\")\n",
        "print(\"previously computed L \\n\")\n",
        "MatPrint(L)"
      ],
      "metadata": {
        "id": "CkCX0QaEAwdr",
        "colab": {
          "base_uri": "https://localhost:8080/"
        },
        "outputId": "7b3f6cc9-dc39-4273-846c-c7e1c488a297"
      },
      "execution_count": 17,
      "outputs": [
        {
          "output_type": "stream",
          "name": "stdout",
          "text": [
            "computing L with j.T @ j \n",
            "\n",
            "Matrix:\n",
            "|     2.00     1.00     1.00     0.00     0.00 |\n",
            "|     1.00     4.00     1.00     1.00     1.00 |\n",
            "|     1.00     1.00     2.00     0.00     0.00 |\n",
            "|     0.00     1.00     0.00     2.00     1.00 |\n",
            "|     0.00     1.00     0.00     1.00     2.00 |\n",
            "\n",
            "\n",
            "previously computed L \n",
            "\n",
            "Matrix:\n",
            "|     2.00    -1.00    -1.00     0.00     0.00 |\n",
            "|    -1.00     4.00    -1.00    -1.00    -1.00 |\n",
            "|    -1.00    -1.00     2.00     0.00     0.00 |\n",
            "|     0.00    -1.00     0.00     2.00    -1.00 |\n",
            "|     0.00    -1.00     0.00    -1.00     2.00 |\n"
          ]
        }
      ]
    },
    {
      "cell_type": "code",
      "source": [
        "eigenvalues_v2, eigenvectors_v2 = np.linalg.eig(L_v2)\n",
        "print(' These are eigen values of the Laplacian: \\n')\n",
        "print(eigenvalues_v2)\n",
        "print('\\n')\n",
        "print(' These are eigen vectors of the Laplacian: \\n')\n",
        "MatPrint(eigenvectors_v2)"
      ],
      "metadata": {
        "id": "nKP1keB_BKT_",
        "colab": {
          "base_uri": "https://localhost:8080/"
        },
        "outputId": "35f24700-218a-40c9-d93b-884a52c0f9aa"
      },
      "execution_count": 18,
      "outputs": [
        {
          "output_type": "stream",
          "name": "stdout",
          "text": [
            " These are eigen values of the Laplacian: \n",
            "\n",
            "[5.56155281 3.         1.         1.43844719 1.        ]\n",
            "\n",
            "\n",
            " These are eigen vectors of the Laplacian: \n",
            "\n",
            "Matrix:\n",
            "|     0.31     0.50    -0.71    -0.39    -0.01 |\n",
            "|     0.79     0.00    -0.00     0.62     0.00 |\n",
            "|     0.31     0.50     0.71    -0.39     0.01 |\n",
            "|     0.31    -0.50     0.00    -0.39    -0.71 |\n",
            "|     0.31    -0.50     0.00    -0.39     0.71 |\n"
          ]
        }
      ]
    },
    {
      "cell_type": "markdown",
      "source": [
        "what if i had made a cut to seperate 1,2,3 and 4,5\n",
        "\n",
        "![Capture.PNG](data:image/png;base64,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)"
      ],
      "metadata": {
        "id": "BHg6EUQyLmvS"
      }
    },
    {
      "cell_type": "code",
      "source": [
        "ADJ = np.array([ [0,1,1,0,0],[1,0,1,0,0],[1,1,0,0,0],[0,0,0,0,1],[0,0,0,1,0] ])\n",
        "Deg = np.array([ [2,0,0,0,0],[0,2,0,0,0],[0,0,2,0,0],[0,0,0,1,0],[0,0,0,0,1]])"
      ],
      "metadata": {
        "id": "u6bj5_PQDaV9"
      },
      "execution_count": 19,
      "outputs": []
    },
    {
      "cell_type": "code",
      "source": [
        "L_v3 = Deg - ADJ\n",
        "MatPrint(L_v3)\n",
        "eigenvalues_v3, eigenvectors_v3 = np.linalg.eig(L_v3)\n",
        "print(' These are eigen values of the Laplacian: \\n')\n",
        "print(eigenvalues_v3)\n",
        "print('\\n')\n",
        "print(' These are eigen vectors of the Laplacian: \\n')\n",
        "MatPrint(eigenvectors_v3)"
      ],
      "metadata": {
        "colab": {
          "base_uri": "https://localhost:8080/"
        },
        "id": "9H41uZaAFIo5",
        "outputId": "d95ac0e5-03e9-4ee3-9724-2bb5b30567aa"
      },
      "execution_count": 20,
      "outputs": [
        {
          "output_type": "stream",
          "name": "stdout",
          "text": [
            "Matrix:\n",
            "|     2.00    -1.00    -1.00     0.00     0.00 |\n",
            "|    -1.00     2.00    -1.00     0.00     0.00 |\n",
            "|    -1.00    -1.00     2.00     0.00     0.00 |\n",
            "|     0.00     0.00     0.00     1.00    -1.00 |\n",
            "|     0.00     0.00     0.00    -1.00     1.00 |\n",
            " These are eigen values of the Laplacian: \n",
            "\n",
            "[ 3.0000000e+00 -4.4408921e-16  3.0000000e+00  2.0000000e+00\n",
            "  0.0000000e+00]\n",
            "\n",
            "\n",
            " These are eigen vectors of the Laplacian: \n",
            "\n",
            "Matrix:\n",
            "|     0.82    -0.58     0.29     0.00     0.00 |\n",
            "|    -0.41    -0.58    -0.81     0.00     0.00 |\n",
            "|    -0.41    -0.58     0.51     0.00     0.00 |\n",
            "|     0.00     0.00     0.00     0.71     0.71 |\n",
            "|     0.00     0.00     0.00    -0.71     0.71 |\n"
          ]
        }
      ]
    },
    {
      "cell_type": "markdown",
      "source": [
        "Defining my own Similarity funtion, degreee matrix and calculating the laplacian of the graph as L= D - S .  The graph is shown below with each edge assigned a particular weight\n",
        "\n",
        "![Capture.PNG](data:image/png;base64,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)\n",
        "\n",
        "The similarity Matrix is:  1/(weight of the edge) ; higher the value, the more similar are two adjacent edges. I have defined non adjacent edges as 0. And self similarity as 0 as well.  \n",
        "\n",
        "The degree Matrix is simply row wise sum of similarity Matrix, such that each row represents each vertix\n"
      ],
      "metadata": {
        "id": "JPq7jxf_T64J"
      }
    },
    {
      "cell_type": "code",
      "source": [
        "S = np.array([ [0,1,0.333,0,0], [1,0,0.25,0.0476,0.0667],[0.333,0.25,0,0,0],[0,0.476,0,0,0.5],[0,0.0667,0,0.5,0]])\n",
        "MatPrint(S)"
      ],
      "metadata": {
        "colab": {
          "base_uri": "https://localhost:8080/"
        },
        "id": "73QE6QWdU9uj",
        "outputId": "19c13d79-c65c-4fde-9e80-5dcdcb1b50bc"
      },
      "execution_count": 21,
      "outputs": [
        {
          "output_type": "stream",
          "name": "stdout",
          "text": [
            "Matrix:\n",
            "|     0.00     1.00     0.33     0.00     0.00 |\n",
            "|     1.00     0.00     0.25     0.05     0.07 |\n",
            "|     0.33     0.25     0.00     0.00     0.00 |\n",
            "|     0.00     0.48     0.00     0.00     0.50 |\n",
            "|     0.00     0.07     0.00     0.50     0.00 |\n"
          ]
        }
      ]
    },
    {
      "cell_type": "code",
      "source": [
        "Deg = np.array([ [1.33,0,0,0,0],[0,1.3643,0,0,0],[0,0,0.58,0,0],[0,0,0,0.5476,0],[0,0,0,0,0.5667]])\n",
        "MatPrint(Deg)"
      ],
      "metadata": {
        "colab": {
          "base_uri": "https://localhost:8080/"
        },
        "id": "mzzlWEoyVR2C",
        "outputId": "6c77e5a3-e467-43e9-abbb-f7231f2d5955"
      },
      "execution_count": 22,
      "outputs": [
        {
          "output_type": "stream",
          "name": "stdout",
          "text": [
            "Matrix:\n",
            "|     1.33     0.00     0.00     0.00     0.00 |\n",
            "|     0.00     1.36     0.00     0.00     0.00 |\n",
            "|     0.00     0.00     0.58     0.00     0.00 |\n",
            "|     0.00     0.00     0.00     0.55     0.00 |\n",
            "|     0.00     0.00     0.00     0.00     0.57 |\n"
          ]
        }
      ]
    },
    {
      "cell_type": "code",
      "source": [
        "Lapoo = Deg - S\n",
        "# sorry for spelling it lapoo , i got excited\n",
        "MatPrint(Lapoo)"
      ],
      "metadata": {
        "colab": {
          "base_uri": "https://localhost:8080/"
        },
        "id": "hIklf5uAVlYq",
        "outputId": "5477d8c7-7a3d-4be2-f4e9-976b770d4fa4"
      },
      "execution_count": 23,
      "outputs": [
        {
          "output_type": "stream",
          "name": "stdout",
          "text": [
            "Matrix:\n",
            "|     1.33    -1.00    -0.33     0.00     0.00 |\n",
            "|    -1.00     1.36    -0.25    -0.05    -0.07 |\n",
            "|    -0.33    -0.25     0.58     0.00     0.00 |\n",
            "|     0.00    -0.48     0.00     0.55    -0.50 |\n",
            "|     0.00    -0.07     0.00    -0.50     0.57 |\n"
          ]
        }
      ]
    },
    {
      "cell_type": "code",
      "source": [
        "eigenvalues_v4, eigenvectors_v4 = np.linalg.eig(Lapoo)\n",
        "print(' These are eigen values of the Laplacian: \\n')\n",
        "print(eigenvalues_v4)\n",
        "print('\\n')\n",
        "print(' These are eigen vectors of the Laplacian: \\n')\n",
        "MatPrint(eigenvectors_v4)"
      ],
      "metadata": {
        "colab": {
          "base_uri": "https://localhost:8080/"
        },
        "id": "UieOENF1VwZj",
        "outputId": "e9006a5c-f267-435f-cf69-4b1a43f9b0d7"
      },
      "execution_count": 24,
      "outputs": [
        {
          "output_type": "stream",
          "name": "stdout",
          "text": [
            " These are eigen values of the Laplacian: \n",
            "\n",
            "[ 2.35434628 -0.05712145  0.13535268  1.05243743  0.90358506]\n",
            "\n",
            "\n",
            " These are eigen vectors of the Laplacian: \n",
            "\n",
            "Matrix:\n",
            "|     0.69    -0.25     0.23    -0.03    -0.33 |\n",
            "|    -0.70    -0.27     0.18    -0.02    -0.34 |\n",
            "|    -0.03    -0.23     0.28     0.03     0.60 |\n",
            "|     0.19    -0.69    -0.61    -0.70    -0.33 |\n",
            "|    -0.03    -0.58    -0.68     0.72     0.56 |\n"
          ]
        }
      ]
    },
    {
      "cell_type": "markdown",
      "source": [
        "LETS GET STARTED! SIM here you go ->"
      ],
      "metadata": {
        "id": "2bz9oJ-KFAQP"
      }
    },
    {
      "cell_type": "code",
      "source": [
        "# Creating two Linear Independant Subspaces\n",
        "\n",
        "v1 = np.random.rand(3,1) * np.random.rand(1,4)\n",
        "v2 = np.random.rand(3,1) * np.random.rand(1,3)\n",
        "M = np.hstack((v1,v2))\n",
        "print(\"This is the Data Matrix\")\n",
        "MatPrint(M)\n",
        "print(f\"this is the shape of data matrix {M.shape}\")\n",
        "\n",
        "# Perform SVD\n",
        "U, S, VT = np.linalg.svd(M,full_matrices=False)\n",
        "\n",
        "V2 = VT[0:2,:]\n",
        "print(\"Right singular Vector: \\n\")\n",
        "MatPrint(V2)\n",
        "print(f\" The shape of the right singular vector is {V2.shape} \\n\")\n",
        "\n",
        "# Forming the shape interaction Matrix aka similarity\n",
        "threshold = 2.220446049250313e-16  # this is machine epsilon\n",
        "SIM = np.transpose(V2) @ V2\n",
        "bool_mat = SIM > threshold\n",
        "SIM = bool_mat.astype(int)\n",
        "print('This is the SIM matrix')\n",
        "MatPrint(SIM)"
      ],
      "metadata": {
        "id": "uY7_o_gUV8Cy",
        "colab": {
          "base_uri": "https://localhost:8080/"
        },
        "outputId": "9a65b569-49b4-4624-f834-71ca3f7befc9"
      },
      "execution_count": 40,
      "outputs": [
        {
          "output_type": "stream",
          "name": "stdout",
          "text": [
            "This is the Data Matrix\n",
            "Matrix:\n",
            "|     0.22     0.31     0.23     0.22     0.15     0.43     0.39 |\n",
            "|     0.21     0.30     0.22     0.21     0.06     0.16     0.14 |\n",
            "|     0.20     0.28     0.21     0.20     0.15     0.43     0.38 |\n",
            "this is the shape of data matrix (3, 7)\n",
            "Right singular Vector: \n",
            "\n",
            "Matrix:\n",
            "|    -0.30    -0.43    -0.32    -0.30    -0.18    -0.53    -0.47 |\n",
            "|    -0.32    -0.46    -0.34    -0.32     0.17     0.49     0.44 |\n",
            " The shape of the right singular vector is (2, 7) \n",
            "\n",
            "This is the SIM matrix\n",
            "Matrix:\n",
            "|     1.00     1.00     1.00     1.00     0.00     1.00     1.00 |\n",
            "|     1.00     1.00     1.00     1.00     0.00     0.00     0.00 |\n",
            "|     1.00     1.00     1.00     1.00     0.00     0.00     0.00 |\n",
            "|     1.00     1.00     1.00     1.00     0.00     0.00     0.00 |\n",
            "|     0.00     0.00     0.00     0.00     1.00     1.00     1.00 |\n",
            "|     1.00     0.00     0.00     0.00     1.00     1.00     1.00 |\n",
            "|     1.00     0.00     0.00     0.00     1.00     1.00     1.00 |\n"
          ]
        }
      ]
    },
    {
      "cell_type": "markdown",
      "source": [
        "We can observe the sim matrix above it clearly separate the two clusters\n"
      ],
      "metadata": {
        "id": "eGD91i8TJhD7"
      }
    },
    {
      "cell_type": "code",
      "source": [],
      "metadata": {
        "id": "vLyE3ncBFF7N"
      },
      "execution_count": 25,
      "outputs": []
    }
  ],
  "metadata": {
    "colab": {
      "provenance": []
    },
    "kernelspec": {
      "display_name": "Python 3",
      "name": "python3"
    },
    "language_info": {
      "name": "python"
    }
  },
  "nbformat": 4,
  "nbformat_minor": 0
}